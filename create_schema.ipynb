{
 "cells": [
  {
   "cell_type": "code",
   "execution_count": 51,
   "id": "0d3a57c3-6af5-4de2-b92f-74b8b4a16a45",
   "metadata": {},
   "outputs": [
    {
     "name": "stdout",
     "output_type": "stream",
     "text": [
      "The sql extension is already loaded. To reload it, use:\n",
      "  %reload_ext sql\n"
     ]
    }
   ],
   "source": [
    "%load_ext sql"
   ]
  },
  {
   "cell_type": "code",
   "execution_count": 52,
   "id": "90773e2c-cc99-4ede-8c05-bbc5f594df68",
   "metadata": {},
   "outputs": [],
   "source": [
    "%sql sqlite:///library.db"
   ]
  },
  {
   "cell_type": "markdown",
   "id": "3a9dc544-516e-4dc6-aec6-f2306e7dcd73",
   "metadata": {},
   "source": [
    "### Create Library Item Table ###"
   ]
  },
  {
   "cell_type": "code",
   "execution_count": 53,
   "id": "6967c039-0b5b-4cca-8b5d-7894ecc744a3",
   "metadata": {},
   "outputs": [
    {
     "data": {
      "text/html": [
       "<span style=\"None\">Running query in &#x27;sqlite:///library.db&#x27;</span>"
      ],
      "text/plain": [
       "Running query in 'sqlite:///library.db'"
      ]
     },
     "metadata": {},
     "output_type": "display_data"
    },
    {
     "data": {
      "text/html": [
       "<table>\n",
       "    <thead>\n",
       "        <tr>\n",
       "        </tr>\n",
       "    </thead>\n",
       "    <tbody>\n",
       "    </tbody>\n",
       "</table>"
      ],
      "text/plain": [
       "++\n",
       "||\n",
       "++\n",
       "++"
      ]
     },
     "execution_count": 53,
     "metadata": {},
     "output_type": "execute_result"
    }
   ],
   "source": [
    "%%sql\n",
    "DROP TABLE IF EXISTS LibraryItem;\n",
    "DROP TABLE IF EXISTS Member;\n",
    "DROP TABLE IF EXISTS Personnel;\n",
    "DROP TABLE IF EXISTS Event;\n",
    "DROP TABLE IF EXISTS FutureItem;\n",
    "DROP TABLE IF EXISTS Register;\n",
    "DROP TABLE IF EXISTS Borrows;\n",
    "DROP TRIGGER IF EXISTS set_item_checked_out;\n",
    "DROP TRIGGER IF EXISTS set_item_available;\n",
    "DROP TRIGGER IF EXISTS ensure_future_item_pending;\n",
    "DROP TRIGGER IF EXISTS update_future_item_status;\n",
    "DROP TRIGGER IF EXISTS calculate_fine_on_return;\n",
    "DROP TRIGGER IF EXISTS set_item_available_on_return;"
   ]
  },
  {
   "cell_type": "code",
   "execution_count": 54,
   "id": "9f4c5cf7-f5a3-44cb-b277-3b4a99d8bfc8",
   "metadata": {},
   "outputs": [
    {
     "data": {
      "text/html": [
       "<span style=\"None\">Running query in &#x27;sqlite:///library.db&#x27;</span>"
      ],
      "text/plain": [
       "Running query in 'sqlite:///library.db'"
      ]
     },
     "metadata": {},
     "output_type": "display_data"
    },
    {
     "data": {
      "text/html": [
       "<table>\n",
       "    <thead>\n",
       "        <tr>\n",
       "        </tr>\n",
       "    </thead>\n",
       "    <tbody>\n",
       "    </tbody>\n",
       "</table>"
      ],
      "text/plain": [
       "++\n",
       "||\n",
       "++\n",
       "++"
      ]
     },
     "execution_count": 54,
     "metadata": {},
     "output_type": "execute_result"
    }
   ],
   "source": [
    "%%sql\n",
    "\n",
    "CREATE TABLE IF NOT EXISTS LibraryItem (\n",
    "    itemID INTEGER PRIMARY KEY AUTOINCREMENT,\n",
    "    title TEXT NOT NULL,\n",
    "    author TEXT,\n",
    "    releaseYear INTEGER,\n",
    "    issueNumber INTEGER,\n",
    "    itemType TEXT,\n",
    "    itemStatus TEXT DEFAULT 'Available' CHECK (itemStatus IN ('Available','On-Hold','Checked-Out','Pending'))\n",
    ");"
   ]
  },
  {
   "cell_type": "markdown",
   "id": "9ca30ca3-27eb-43e0-b0c1-3117b17de5ea",
   "metadata": {},
   "source": [
    "### Create Member Table ###"
   ]
  },
  {
   "cell_type": "code",
   "execution_count": 55,
   "id": "e33cac33-42ca-4eb9-bf0d-250a57933a69",
   "metadata": {},
   "outputs": [
    {
     "data": {
      "text/html": [
       "<span style=\"None\">Running query in &#x27;sqlite:///library.db&#x27;</span>"
      ],
      "text/plain": [
       "Running query in 'sqlite:///library.db'"
      ]
     },
     "metadata": {},
     "output_type": "display_data"
    },
    {
     "data": {
      "text/html": [
       "<table>\n",
       "    <thead>\n",
       "        <tr>\n",
       "        </tr>\n",
       "    </thead>\n",
       "    <tbody>\n",
       "    </tbody>\n",
       "</table>"
      ],
      "text/plain": [
       "++\n",
       "||\n",
       "++\n",
       "++"
      ]
     },
     "execution_count": 55,
     "metadata": {},
     "output_type": "execute_result"
    }
   ],
   "source": [
    "%%sql\n",
    "DROP TABLE IF EXISTS Member;"
   ]
  },
  {
   "cell_type": "code",
   "execution_count": 56,
   "id": "9c14d70d-2837-4da5-acf0-b774b853a56d",
   "metadata": {},
   "outputs": [
    {
     "data": {
      "text/html": [
       "<span style=\"None\">Running query in &#x27;sqlite:///library.db&#x27;</span>"
      ],
      "text/plain": [
       "Running query in 'sqlite:///library.db'"
      ]
     },
     "metadata": {},
     "output_type": "display_data"
    },
    {
     "data": {
      "text/html": [
       "<table>\n",
       "    <thead>\n",
       "        <tr>\n",
       "        </tr>\n",
       "    </thead>\n",
       "    <tbody>\n",
       "    </tbody>\n",
       "</table>"
      ],
      "text/plain": [
       "++\n",
       "||\n",
       "++\n",
       "++"
      ]
     },
     "execution_count": 56,
     "metadata": {},
     "output_type": "execute_result"
    }
   ],
   "source": [
    "%%sql\n",
    "CREATE TABLE Member (\n",
    "    memberID INTEGER PRIMARY KEY AUTOINCREMENT,\n",
    "    firstName TEXT NOT NULL,\n",
    "    lastName TEXT NOT NULL,\n",
    "    phoneNumber TEXT,\n",
    "    email TEXT,\n",
    "    membershipType TEXT,\n",
    "    CHECK (email IS NOT NULL OR phoneNumber IS NOT NULL)\n",
    ");"
   ]
  },
  {
   "cell_type": "markdown",
   "id": "81dfee40-09ca-4fef-bfdb-c002b39ff82d",
   "metadata": {},
   "source": [
    "### Create Personnel Table ###"
   ]
  },
  {
   "cell_type": "code",
   "execution_count": 57,
   "id": "0f5a1698-d861-4814-bb57-a80955fad53a",
   "metadata": {},
   "outputs": [
    {
     "data": {
      "text/html": [
       "<span style=\"None\">Running query in &#x27;sqlite:///library.db&#x27;</span>"
      ],
      "text/plain": [
       "Running query in 'sqlite:///library.db'"
      ]
     },
     "metadata": {},
     "output_type": "display_data"
    },
    {
     "data": {
      "text/html": [
       "<table>\n",
       "    <thead>\n",
       "        <tr>\n",
       "        </tr>\n",
       "    </thead>\n",
       "    <tbody>\n",
       "    </tbody>\n",
       "</table>"
      ],
      "text/plain": [
       "++\n",
       "||\n",
       "++\n",
       "++"
      ]
     },
     "execution_count": 57,
     "metadata": {},
     "output_type": "execute_result"
    }
   ],
   "source": [
    "%%sql\n",
    "CREATE TABLE Personnel (\n",
    "    personnelID INTEGER,\n",
    "    firstName TEXT NOT NULL,\n",
    "    lastName TEXT NOT NULL,\n",
    "    personnelRole TEXT,\n",
    "    primaryLocation TEXT,\n",
    "    salary REAL,\n",
    "    PRIMARY KEY (personnelID)\n",
    ")"
   ]
  },
  {
   "cell_type": "markdown",
   "id": "6cf32bfc-6616-4c0a-b3b1-f00f5e41a04c",
   "metadata": {},
   "source": [
    "### Create Event Table ###"
   ]
  },
  {
   "cell_type": "code",
   "execution_count": 58,
   "id": "8ad12d02-682c-430f-818c-b267f999bf88",
   "metadata": {},
   "outputs": [
    {
     "data": {
      "text/html": [
       "<span style=\"None\">Running query in &#x27;sqlite:///library.db&#x27;</span>"
      ],
      "text/plain": [
       "Running query in 'sqlite:///library.db'"
      ]
     },
     "metadata": {},
     "output_type": "display_data"
    },
    {
     "data": {
      "text/html": [
       "<table>\n",
       "    <thead>\n",
       "        <tr>\n",
       "        </tr>\n",
       "    </thead>\n",
       "    <tbody>\n",
       "    </tbody>\n",
       "</table>"
      ],
      "text/plain": [
       "++\n",
       "||\n",
       "++\n",
       "++"
      ]
     },
     "execution_count": 58,
     "metadata": {},
     "output_type": "execute_result"
    }
   ],
   "source": [
    "%%sql\n",
    "CREATE TABLE Event (\n",
    "    eventID INTEGER,\n",
    "    eventName TEXT NOT NULL,\n",
    "    eventType TEXT,\n",
    "    eventDate DATE NOT NULL,\n",
    "    eventLocation TEXT,\n",
    "    audienceType TEXT,\n",
    "    roomNumber TEXT,\n",
    "    PRIMARY KEY (eventID)\n",
    ");"
   ]
  },
  {
   "cell_type": "markdown",
   "id": "3a2ede09-6799-4026-805d-612f0e182c88",
   "metadata": {},
   "source": [
    "### Create Future Item Entity Set ###"
   ]
  },
  {
   "cell_type": "code",
   "execution_count": 59,
   "id": "1eb84517-9cfb-4149-b6d7-cd62ed0142da",
   "metadata": {},
   "outputs": [
    {
     "data": {
      "text/html": [
       "<span style=\"None\">Running query in &#x27;sqlite:///library.db&#x27;</span>"
      ],
      "text/plain": [
       "Running query in 'sqlite:///library.db'"
      ]
     },
     "metadata": {},
     "output_type": "display_data"
    },
    {
     "data": {
      "text/html": [
       "<table>\n",
       "    <thead>\n",
       "        <tr>\n",
       "        </tr>\n",
       "    </thead>\n",
       "    <tbody>\n",
       "    </tbody>\n",
       "</table>"
      ],
      "text/plain": [
       "++\n",
       "||\n",
       "++\n",
       "++"
      ]
     },
     "execution_count": 59,
     "metadata": {},
     "output_type": "execute_result"
    }
   ],
   "source": [
    "%%sql\n",
    "CREATE TABLE FutureItem (\n",
    "    itemID INTEGER,\n",
    "    dateOfArrival DATE,\n",
    "    approvalStatus TEXT DEFAULT 'Pending' CHECK (approvalStatus IN ('Pending','Complete','Denied')),\n",
    "    FOREIGN KEY (itemID) REFERENCES LibraryItem(itemID)\n",
    ");"
   ]
  },
  {
   "cell_type": "markdown",
   "id": "c97c651d-d85a-4b57-9ff5-a3874733b031",
   "metadata": {},
   "source": [
    "### Create VolunteeringPositions Table ###"
   ]
  },
  {
   "cell_type": "code",
   "execution_count": 62,
   "id": "2f013cbc-0241-4a87-82d4-56d0a82f2ebf",
   "metadata": {},
   "outputs": [
    {
     "data": {
      "text/html": [
       "<span style=\"None\">Running query in &#x27;sqlite:///library.db&#x27;</span>"
      ],
      "text/plain": [
       "Running query in 'sqlite:///library.db'"
      ]
     },
     "metadata": {},
     "output_type": "display_data"
    },
    {
     "data": {
      "text/html": [
       "<table>\n",
       "    <thead>\n",
       "        <tr>\n",
       "        </tr>\n",
       "    </thead>\n",
       "    <tbody>\n",
       "    </tbody>\n",
       "</table>"
      ],
      "text/plain": [
       "++\n",
       "||\n",
       "++\n",
       "++"
      ]
     },
     "execution_count": 62,
     "metadata": {},
     "output_type": "execute_result"
    }
   ],
   "source": [
    "%%sql\n",
    "DROP TABLE IF EXISTS VolunteeringPositions;\n",
    "CREATE TABLE VolunteeringPositions (\n",
    "    positionID INTEGER PRIMARY KEY AUTOINCREMENT,\n",
    "    positionName TEXT NOT NULL,\n",
    "    positionDescription TEXT,\n",
    "    location TEXT,\n",
    "    isAvailable INTEGER DEFAULT 1 CHECK(isAvailable IN (0,1))\n",
    ");"
   ]
  },
  {
   "cell_type": "markdown",
   "id": "400de813-ca84-428e-8916-290462cfbec3",
   "metadata": {},
   "source": [
    "### Create HelpRequest Table ###"
   ]
  },
  {
   "cell_type": "code",
   "execution_count": 64,
   "id": "01ecdc21-567f-41cc-b3ca-1cef0a9fd5dc",
   "metadata": {},
   "outputs": [
    {
     "data": {
      "text/html": [
       "<span style=\"None\">Running query in &#x27;sqlite:///library.db&#x27;</span>"
      ],
      "text/plain": [
       "Running query in 'sqlite:///library.db'"
      ]
     },
     "metadata": {},
     "output_type": "display_data"
    },
    {
     "data": {
      "text/html": [
       "<table>\n",
       "    <thead>\n",
       "        <tr>\n",
       "        </tr>\n",
       "    </thead>\n",
       "    <tbody>\n",
       "    </tbody>\n",
       "</table>"
      ],
      "text/plain": [
       "++\n",
       "||\n",
       "++\n",
       "++"
      ]
     },
     "execution_count": 64,
     "metadata": {},
     "output_type": "execute_result"
    }
   ],
   "source": [
    "%%sql\n",
    "DROP TABLE IF EXISTS HelpRequest; \n",
    "CREATE TABLE HelpRequest(\n",
    "    requestID INTEGER PRIMARY KEY AUTOINCREMENT,\n",
    "    memberID INTEGER,\n",
    "    requestDate DATE NOT NULL,\n",
    "    topic TEXT NOT NULL,\n",
    "    FOREIGN KEY (memberID) REFERENCES Member(memberID)\n",
    ");"
   ]
  },
  {
   "cell_type": "markdown",
   "id": "faecc1a6-e238-4dbf-92ab-00be88c2c91c",
   "metadata": {},
   "source": [
    "### Create Register Relationship ###"
   ]
  },
  {
   "cell_type": "code",
   "execution_count": 60,
   "id": "2a9a3ff4-9b70-4146-968b-f80123562a56",
   "metadata": {},
   "outputs": [
    {
     "data": {
      "text/html": [
       "<span style=\"None\">Running query in &#x27;sqlite:///library.db&#x27;</span>"
      ],
      "text/plain": [
       "Running query in 'sqlite:///library.db'"
      ]
     },
     "metadata": {},
     "output_type": "display_data"
    },
    {
     "data": {
      "text/html": [
       "<table>\n",
       "    <thead>\n",
       "        <tr>\n",
       "        </tr>\n",
       "    </thead>\n",
       "    <tbody>\n",
       "    </tbody>\n",
       "</table>"
      ],
      "text/plain": [
       "++\n",
       "||\n",
       "++\n",
       "++"
      ]
     },
     "execution_count": 60,
     "metadata": {},
     "output_type": "execute_result"
    }
   ],
   "source": [
    "%%sql\n",
    "CREATE TABLE Register (\n",
    "    memberID INTEGER,\n",
    "    eventID INTEGER,\n",
    "    PRIMARY KEY (memberID,eventID),\n",
    "    FOREIGN KEY (memberID) REFERENCES Member(memberID),\n",
    "    FOREIGN KEY (eventID) REFERENCES Event(eventID)\n",
    ");"
   ]
  },
  {
   "cell_type": "markdown",
   "id": "9c05d51f-980f-4752-827f-3ae84d7d142a",
   "metadata": {},
   "source": [
    "### Create Borrows Relationship ###"
   ]
  },
  {
   "cell_type": "code",
   "execution_count": 61,
   "id": "d787d53a-579f-44cd-88b9-cfb77737d629",
   "metadata": {},
   "outputs": [
    {
     "data": {
      "text/html": [
       "<span style=\"None\">Running query in &#x27;sqlite:///library.db&#x27;</span>"
      ],
      "text/plain": [
       "Running query in 'sqlite:///library.db'"
      ]
     },
     "metadata": {},
     "output_type": "display_data"
    },
    {
     "data": {
      "text/html": [
       "<table>\n",
       "    <thead>\n",
       "        <tr>\n",
       "        </tr>\n",
       "    </thead>\n",
       "    <tbody>\n",
       "    </tbody>\n",
       "</table>"
      ],
      "text/plain": [
       "++\n",
       "||\n",
       "++\n",
       "++"
      ]
     },
     "execution_count": 61,
     "metadata": {},
     "output_type": "execute_result"
    }
   ],
   "source": [
    "%%sql\n",
    "DROP TABLE IF EXISTS Borrows;\n",
    "CREATE TABLE Borrows (\n",
    "    borrowID INTEGER PRIMARY KEY AUTOINCREMENT,\n",
    "    itemID INTEGER,\n",
    "    memberID INTEGER,\n",
    "    borrowDate DATE,\n",
    "    dueDate DATE NOT NULL,\n",
    "    returnDate DATE,\n",
    "    fineAmount INTEGER DEFAULT 0,\n",
    "    FOREIGN KEY (itemID) REFERENCES LibraryItem(itemID),\n",
    "    FOREIGN KEY (memberID) REFERENCES Member(memberID) \n",
    ");"
   ]
  },
  {
   "cell_type": "markdown",
   "id": "37353aa2-ca31-42ba-876d-c186028407f5",
   "metadata": {},
   "source": [
    "### Create Volunteer Relationship ###"
   ]
  },
  {
   "cell_type": "code",
   "execution_count": 63,
   "id": "263e974e-9902-4357-b1bb-dd460b49c097",
   "metadata": {},
   "outputs": [
    {
     "data": {
      "text/html": [
       "<span style=\"None\">Running query in &#x27;sqlite:///library.db&#x27;</span>"
      ],
      "text/plain": [
       "Running query in 'sqlite:///library.db'"
      ]
     },
     "metadata": {},
     "output_type": "display_data"
    },
    {
     "data": {
      "text/html": [
       "<table>\n",
       "    <thead>\n",
       "        <tr>\n",
       "        </tr>\n",
       "    </thead>\n",
       "    <tbody>\n",
       "    </tbody>\n",
       "</table>"
      ],
      "text/plain": [
       "++\n",
       "||\n",
       "++\n",
       "++"
      ]
     },
     "execution_count": 63,
     "metadata": {},
     "output_type": "execute_result"
    }
   ],
   "source": [
    "%%sql\n",
    "DROP TABLE IF EXISTS Volunteer;\n",
    "CREATE TABLE Volunteer (\n",
    "    memberID INTEGER,\n",
    "    positionID INTEGER UNIQUE,\n",
    "    PRIMARY KEY (memberID,positionID),\n",
    "    FOREIGN KEY (memberID) REFERENCES Member(memberID),\n",
    "    FOREIGN KEY (positionID) REFERENCES VolunteeringPosition(positionID)\n",
    ")"
   ]
  },
  {
   "cell_type": "markdown",
   "id": "5e764006-a781-4f42-9209-eb681f08f445",
   "metadata": {},
   "source": [
    "### Create Triggers ###"
   ]
  },
  {
   "cell_type": "code",
   "execution_count": 65,
   "id": "92cff20d-6d69-4e01-b058-8be5c619b90e",
   "metadata": {},
   "outputs": [
    {
     "data": {
      "text/html": [
       "<span style=\"None\">Running query in &#x27;sqlite:///library.db&#x27;</span>"
      ],
      "text/plain": [
       "Running query in 'sqlite:///library.db'"
      ]
     },
     "metadata": {},
     "output_type": "display_data"
    },
    {
     "data": {
      "text/html": [
       "<table>\n",
       "    <thead>\n",
       "        <tr>\n",
       "        </tr>\n",
       "    </thead>\n",
       "    <tbody>\n",
       "    </tbody>\n",
       "</table>"
      ],
      "text/plain": [
       "++\n",
       "||\n",
       "++\n",
       "++"
      ]
     },
     "execution_count": 65,
     "metadata": {},
     "output_type": "execute_result"
    }
   ],
   "source": [
    "%%sql\n",
    "CREATE TRIGGER set_item_checked_out\n",
    "AFTER INSERT ON Borrows\n",
    "FOR EACH ROW\n",
    "BEGIN\n",
    "    UPDATE LibraryItem\n",
    "    SET itemStatus='Checked-Out'\n",
    "    WHERE itemID=NEW.itemID;\n",
    "END;"
   ]
  },
  {
   "cell_type": "code",
   "execution_count": 66,
   "id": "33c42b40-0abd-495d-82ea-7f051c65e3d8",
   "metadata": {},
   "outputs": [
    {
     "data": {
      "text/html": [
       "<span style=\"None\">Running query in &#x27;sqlite:///library.db&#x27;</span>"
      ],
      "text/plain": [
       "Running query in 'sqlite:///library.db'"
      ]
     },
     "metadata": {},
     "output_type": "display_data"
    },
    {
     "data": {
      "text/html": [
       "<table>\n",
       "    <thead>\n",
       "        <tr>\n",
       "        </tr>\n",
       "    </thead>\n",
       "    <tbody>\n",
       "    </tbody>\n",
       "</table>"
      ],
      "text/plain": [
       "++\n",
       "||\n",
       "++\n",
       "++"
      ]
     },
     "execution_count": 66,
     "metadata": {},
     "output_type": "execute_result"
    }
   ],
   "source": [
    "%%sql\n",
    "CREATE TRIGGER set_item_available\n",
    "AFTER DELETE ON Borrows\n",
    "FOR EACH ROW\n",
    "BEGIN\n",
    "    UPDATE LibraryItem\n",
    "    SET itemStatus = 'Available'\n",
    "    WHERE itemID = OLD.itemID;\n",
    "END;"
   ]
  },
  {
   "cell_type": "code",
   "execution_count": 67,
   "id": "29ddcab7-904a-4aaf-af30-01c74e032dd1",
   "metadata": {},
   "outputs": [
    {
     "data": {
      "text/html": [
       "<span style=\"None\">Running query in &#x27;sqlite:///library.db&#x27;</span>"
      ],
      "text/plain": [
       "Running query in 'sqlite:///library.db'"
      ]
     },
     "metadata": {},
     "output_type": "display_data"
    },
    {
     "data": {
      "text/html": [
       "<table>\n",
       "    <thead>\n",
       "        <tr>\n",
       "        </tr>\n",
       "    </thead>\n",
       "    <tbody>\n",
       "    </tbody>\n",
       "</table>"
      ],
      "text/plain": [
       "++\n",
       "||\n",
       "++\n",
       "++"
      ]
     },
     "execution_count": 67,
     "metadata": {},
     "output_type": "execute_result"
    }
   ],
   "source": [
    "%%sql\n",
    "CREATE TRIGGER ensure_future_item_pending\n",
    "AFTER INSERT ON FutureItem\n",
    "FOR EACH ROW\n",
    "BEGIN\n",
    "    UPDATE LibraryItem\n",
    "    SET itemStatus='Pending'\n",
    "    WHERE itemID=NEW.itemID;\n",
    "END;"
   ]
  },
  {
   "cell_type": "code",
   "execution_count": 68,
   "id": "7015a647-13fc-4632-9729-3bf708bdd404",
   "metadata": {},
   "outputs": [
    {
     "data": {
      "text/html": [
       "<span style=\"None\">Running query in &#x27;sqlite:///library.db&#x27;</span>"
      ],
      "text/plain": [
       "Running query in 'sqlite:///library.db'"
      ]
     },
     "metadata": {},
     "output_type": "display_data"
    },
    {
     "data": {
      "text/html": [
       "<table>\n",
       "    <thead>\n",
       "        <tr>\n",
       "        </tr>\n",
       "    </thead>\n",
       "    <tbody>\n",
       "    </tbody>\n",
       "</table>"
      ],
      "text/plain": [
       "++\n",
       "||\n",
       "++\n",
       "++"
      ]
     },
     "execution_count": 68,
     "metadata": {},
     "output_type": "execute_result"
    }
   ],
   "source": [
    "%%sql\n",
    "CREATE TRIGGER update_future_item_status\n",
    "AFTER UPDATE ON FutureItem\n",
    "FOR EACH ROW\n",
    "BEGIN\n",
    "    UPDATE LibraryItem\n",
    "    SET itemStatus=CASE\n",
    "        WHEN NEW.approvalStatus='Complete' THEN 'Available'\n",
    "        WHEN NEW.approvalStatus='Denied' THEN itemStatus\n",
    "        ELSE 'Pending'\n",
    "    END\n",
    "    WHERE itemID=NEW.itemID;\n",
    "\n",
    "    DELETE FROM FutureItem\n",
    "    WHERE itemID=NEW.itemID\n",
    "      AND NEW.approvalStatus='Denied';\n",
    "\n",
    "    DELETE FROM LibraryItem\n",
    "    WHERE itemID=NEW.itemID\n",
    "      AND NEW.approvalStatus='Denied';\n",
    "END;"
   ]
  },
  {
   "cell_type": "code",
   "execution_count": 69,
   "id": "2ff8c9d3-b513-4ec6-b9db-8923704cb002",
   "metadata": {},
   "outputs": [
    {
     "data": {
      "text/html": [
       "<span style=\"None\">Running query in &#x27;sqlite:///library.db&#x27;</span>"
      ],
      "text/plain": [
       "Running query in 'sqlite:///library.db'"
      ]
     },
     "metadata": {},
     "output_type": "display_data"
    },
    {
     "data": {
      "text/html": [
       "<table>\n",
       "    <thead>\n",
       "        <tr>\n",
       "        </tr>\n",
       "    </thead>\n",
       "    <tbody>\n",
       "    </tbody>\n",
       "</table>"
      ],
      "text/plain": [
       "++\n",
       "||\n",
       "++\n",
       "++"
      ]
     },
     "execution_count": 69,
     "metadata": {},
     "output_type": "execute_result"
    }
   ],
   "source": [
    "%%sql\n",
    "CREATE TRIGGER IF NOT EXISTS calculate_fine_on_return\n",
    "AFTER UPDATE ON Borrows\n",
    "FOR EACH ROW\n",
    "WHEN NEW.returnDate IS NOT NULL\n",
    "BEGIN\n",
    "    UPDATE Borrows\n",
    "    SET fineAmount = \n",
    "        CASE \n",
    "            WHEN julianday(NEW.returnDate)>julianday(NEW.dueDate)\n",
    "            THEN (julianday(NEW.returnDate)-julianday(NEW.dueDate))*1.25\n",
    "            ELSE 0\n",
    "        END\n",
    "    WHERE itemID = NEW.itemID\n",
    "      AND memberID = NEW.memberID;\n",
    "END;"
   ]
  },
  {
   "cell_type": "code",
   "execution_count": 70,
   "id": "3c41c160-fd03-4ff7-80fb-4859fef403cb",
   "metadata": {},
   "outputs": [
    {
     "data": {
      "text/html": [
       "<span style=\"None\">Running query in &#x27;sqlite:///library.db&#x27;</span>"
      ],
      "text/plain": [
       "Running query in 'sqlite:///library.db'"
      ]
     },
     "metadata": {},
     "output_type": "display_data"
    },
    {
     "data": {
      "text/html": [
       "<table>\n",
       "    <thead>\n",
       "        <tr>\n",
       "        </tr>\n",
       "    </thead>\n",
       "    <tbody>\n",
       "    </tbody>\n",
       "</table>"
      ],
      "text/plain": [
       "++\n",
       "||\n",
       "++\n",
       "++"
      ]
     },
     "execution_count": 70,
     "metadata": {},
     "output_type": "execute_result"
    }
   ],
   "source": [
    "%%sql\n",
    "CREATE TRIGGER set_item_available_on_return\n",
    "AFTER UPDATE OF returnDate ON Borrows\n",
    "FOR EACH ROW\n",
    "WHEN NEW.returnDate IS NOT NULL\n",
    "BEGIN\n",
    "    UPDATE LibraryItem\n",
    "    SET itemStatus='Available'\n",
    "    WHERE itemID=NEW.itemID;\n",
    "END;"
   ]
  },
  {
   "cell_type": "markdown",
   "id": "eaece7e1-3de6-4dbb-8613-ace106c5d6be",
   "metadata": {},
   "source": [
    "## Insert Tuples ##"
   ]
  },
  {
   "cell_type": "code",
   "execution_count": 71,
   "id": "da3f956f-8241-4804-96a2-1395dff2d72a",
   "metadata": {},
   "outputs": [
    {
     "data": {
      "text/html": [
       "<span style=\"None\">Running query in &#x27;sqlite:///library.db&#x27;</span>"
      ],
      "text/plain": [
       "Running query in 'sqlite:///library.db'"
      ]
     },
     "metadata": {},
     "output_type": "display_data"
    },
    {
     "data": {
      "text/html": [
       "<span style=\"color: green\">10 rows affected.</span>"
      ],
      "text/plain": [
       "10 rows affected."
      ]
     },
     "metadata": {},
     "output_type": "display_data"
    },
    {
     "data": {
      "text/html": [
       "<table>\n",
       "    <thead>\n",
       "        <tr>\n",
       "        </tr>\n",
       "    </thead>\n",
       "    <tbody>\n",
       "    </tbody>\n",
       "</table>"
      ],
      "text/plain": [
       "++\n",
       "||\n",
       "++\n",
       "++"
      ]
     },
     "execution_count": 71,
     "metadata": {},
     "output_type": "execute_result"
    }
   ],
   "source": [
    "%%sql\n",
    "INSERT INTO LibraryItem (itemID,title,author,releaseYear,issueNumber,itemType,itemStatus)\n",
    "VALUES \n",
    "  (1,'The Great Gatsby','F. Scott Fitzgerald',1925,NULL,'Print Book','Available'),\n",
    "  (2,'1984','George Orwell',1949,NULL,'Print Book','Available'),\n",
    "  (3,'To Pimp A Butterfly','Kendrick Lamar',2015,NULL,'Record','Checked-Out'),\n",
    "  (4,'To Kill A Mockingbird','Harper Lee',1960,NULL,'Print Book','On-Hold'),\n",
    "  (5,'National Geographic',NULL,2022,10,'Magazine','Available'),\n",
    "  (6,'Nature Journal','Various',2021,205,'Scientific Journal','Available'),\n",
    "  (7,'The Beatles: Abbey Road','The Beatles',1969, NULL,'Record','Available'),\n",
    "  (8,'The Beautiful and Damned','F. Scott Fitzgerald',1922,NULL,'Print Book','Checked-Out'),\n",
    "  (9,'The Godfather Part II','Francis Ford Coppola',1974,NULL,'CD','Available'),\n",
    "  (10,'Hamlet','William Shakespeare',1623,NULL,'Print Book','Available');"
   ]
  },
  {
   "cell_type": "code",
   "execution_count": 72,
   "id": "332404c0-d108-42a3-86ce-c320f0ff4a4d",
   "metadata": {},
   "outputs": [
    {
     "data": {
      "text/html": [
       "<span style=\"None\">Running query in &#x27;sqlite:///library.db&#x27;</span>"
      ],
      "text/plain": [
       "Running query in 'sqlite:///library.db'"
      ]
     },
     "metadata": {},
     "output_type": "display_data"
    },
    {
     "data": {
      "text/html": [
       "<span style=\"color: green\">1 rows affected.</span>"
      ],
      "text/plain": [
       "1 rows affected."
      ]
     },
     "metadata": {},
     "output_type": "display_data"
    },
    {
     "data": {
      "text/html": [
       "<table>\n",
       "    <thead>\n",
       "        <tr>\n",
       "        </tr>\n",
       "    </thead>\n",
       "    <tbody>\n",
       "    </tbody>\n",
       "</table>"
      ],
      "text/plain": [
       "++\n",
       "||\n",
       "++\n",
       "++"
      ]
     },
     "execution_count": 72,
     "metadata": {},
     "output_type": "execute_result"
    }
   ],
   "source": [
    "%%sql\n",
    "INSERT INTO LibraryItem (itemID,title,author,releaseYear,issueNumber,itemType,itemStatus)\n",
    "VALUES (55,'ABC','DEF',3093,NULL,'A','Available');"
   ]
  },
  {
   "cell_type": "code",
   "execution_count": 73,
   "id": "64570307-8343-40ed-ab5a-d5c7020c9742",
   "metadata": {},
   "outputs": [
    {
     "data": {
      "text/html": [
       "<span style=\"None\">Running query in &#x27;sqlite:///library.db&#x27;</span>"
      ],
      "text/plain": [
       "Running query in 'sqlite:///library.db'"
      ]
     },
     "metadata": {},
     "output_type": "display_data"
    },
    {
     "data": {
      "text/html": [
       "<span style=\"color: green\">10 rows affected.</span>"
      ],
      "text/plain": [
       "10 rows affected."
      ]
     },
     "metadata": {},
     "output_type": "display_data"
    },
    {
     "data": {
      "text/html": [
       "<table>\n",
       "    <thead>\n",
       "        <tr>\n",
       "        </tr>\n",
       "    </thead>\n",
       "    <tbody>\n",
       "    </tbody>\n",
       "</table>"
      ],
      "text/plain": [
       "++\n",
       "||\n",
       "++\n",
       "++"
      ]
     },
     "execution_count": 73,
     "metadata": {},
     "output_type": "execute_result"
    }
   ],
   "source": [
    "%%sql\n",
    "INSERT INTO Member (memberID, firstName, lastName, phoneNumber, email, membershipType)\n",
    "VALUES \n",
    "  (1, 'John','Doe','555-0100', 'john.doe@example.com', 'Gold'),\n",
    "  (2, 'Jane','Doe', '555-0101', 'jane.smith@example.com', 'Silver'),\n",
    "  (3, 'Alice', 'Brown', NULL, 'alice.brown@example.com', 'Gold'),\n",
    "  (4, 'Bob', 'Jones', '555-0103', NULL, 'Bronze'),\n",
    "  (5, 'Charlie', 'Davis', '555-0104', 'charlie.davis@example.com', 'Silver'),\n",
    "  (6, 'Diana', 'Evans', NULL, 'diana.evans@example.com', 'Gold'),\n",
    "  (7, 'Ethan', 'Wright', '555-0106', 'ethan.wright@example.com', 'Bronze'),\n",
    "  (8, 'Fiona', 'Hill', '555-0107', 'fiona.hill@example.com', 'Silver'),\n",
    "  (9, 'George', 'King', '555-0108', 'george.king@example.com', 'Gold'),\n",
    "  (10, 'Hannah', 'Lee', NULL, 'hannah.lee@example.com', 'Bronze');"
   ]
  },
  {
   "cell_type": "code",
   "execution_count": 74,
   "id": "010ae2b7-1c36-49a4-a3d6-9d7a8a631fab",
   "metadata": {},
   "outputs": [
    {
     "data": {
      "text/html": [
       "<span style=\"None\">Running query in &#x27;sqlite:///library.db&#x27;</span>"
      ],
      "text/plain": [
       "Running query in 'sqlite:///library.db'"
      ]
     },
     "metadata": {},
     "output_type": "display_data"
    },
    {
     "data": {
      "text/html": [
       "<span style=\"color: green\">10 rows affected.</span>"
      ],
      "text/plain": [
       "10 rows affected."
      ]
     },
     "metadata": {},
     "output_type": "display_data"
    },
    {
     "data": {
      "text/html": [
       "<table>\n",
       "    <thead>\n",
       "        <tr>\n",
       "        </tr>\n",
       "    </thead>\n",
       "    <tbody>\n",
       "    </tbody>\n",
       "</table>"
      ],
      "text/plain": [
       "++\n",
       "||\n",
       "++\n",
       "++"
      ]
     },
     "execution_count": 74,
     "metadata": {},
     "output_type": "execute_result"
    }
   ],
   "source": [
    "%%sql\n",
    "INSERT INTO Personnel (personnelID, firstName, lastName, personnelRole, primaryLocation, salary)\n",
    "VALUES \n",
    "  (1, 'Sarah', 'Connor', 'Librarian', 'Downtown', 45000.00),\n",
    "  (2, 'Mike', 'Tyson', 'Security', 'Uptown', 38000.00),\n",
    "  (3, 'Linda', 'Smith', 'Manager', 'Main Branch', 60000.00),\n",
    "  (4, 'Robert', 'Brown', 'Clerk', 'Downtown', 32000.00),\n",
    "  (5, 'Emily', 'White', 'Assistant', 'Main Branch', 29000.00),\n",
    "  (6, 'James', 'Johnson', 'Technician', 'Uptown', 35000.00),\n",
    "  (7, 'Patricia', 'Williams', 'Custodian', 'Downtown', 28000.00),\n",
    "  (8, 'David', 'Jones', 'Librarian', 'Main Branch', 47000.00),\n",
    "  (9, 'Barbara', 'Miller', 'IT Specialist', 'Uptown', 55000.00),\n",
    "  (10, 'Richard', 'Davis', 'Security', 'Main Branch', 40000.00);\n"
   ]
  },
  {
   "cell_type": "code",
   "execution_count": 75,
   "id": "63c56463-47c3-46d2-a1d1-14612a6b1eac",
   "metadata": {},
   "outputs": [
    {
     "data": {
      "text/html": [
       "<span style=\"None\">Running query in &#x27;sqlite:///library.db&#x27;</span>"
      ],
      "text/plain": [
       "Running query in 'sqlite:///library.db'"
      ]
     },
     "metadata": {},
     "output_type": "display_data"
    },
    {
     "data": {
      "text/html": [
       "<span style=\"color: green\">10 rows affected.</span>"
      ],
      "text/plain": [
       "10 rows affected."
      ]
     },
     "metadata": {},
     "output_type": "display_data"
    },
    {
     "data": {
      "text/html": [
       "<table>\n",
       "    <thead>\n",
       "        <tr>\n",
       "        </tr>\n",
       "    </thead>\n",
       "    <tbody>\n",
       "    </tbody>\n",
       "</table>"
      ],
      "text/plain": [
       "++\n",
       "||\n",
       "++\n",
       "++"
      ]
     },
     "execution_count": 75,
     "metadata": {},
     "output_type": "execute_result"
    }
   ],
   "source": [
    "%%sql\n",
    "INSERT INTO Event (eventID, eventName, eventType, eventDate, eventLocation, audienceType, roomNumber)\n",
    "VALUES \n",
    "  (1, 'Book Club Meeting', 'Book Club', '2025-03-15', 'Library Conference Room', 'Adults', 'R101'),\n",
    "  (2, 'Film Screening: Classic Movies', 'Film Screening', '2025-04-01', 'Main Hall', 'General', 'R102'),\n",
    "  (3, 'Art Show', 'Exhibition', '2025-05-05', 'Gallery Room', 'Adults', 'R103'),\n",
    "  (4, 'Children''s Story Time', 'Storytelling', '2025-03-20', 'Kids Room', 'Children', 'R104'),\n",
    "  (5, 'Poetry Reading', 'Literary', '2025-04-10', 'Library Auditorium', 'Adults', 'R105'),\n",
    "  (6, 'Science Workshop', 'Workshop', '2025-05-15', 'Tech Room', 'Teens', 'R106'),\n",
    "  (7, 'Historical Lecture', 'Lecture', '2025-06-01', 'Lecture Hall', 'Adults', 'R107'),\n",
    "  (8, 'Film Screening: Indie Films', 'Film Screening', '2025-06-15', 'Main Hall', 'General', 'R102'),\n",
    "  (9, 'Cooking Demonstration', 'Workshop', '2025-07-01', 'Kitchen', 'General', 'R108'),\n",
    "  (10, 'Music Concert', 'Concert', '2025-07-15', 'Auditorium', 'Adults', 'R109');\n"
   ]
  },
  {
   "cell_type": "code",
   "execution_count": 76,
   "id": "2216d24c-fe1f-464a-a6ec-eb22123d0514",
   "metadata": {},
   "outputs": [
    {
     "data": {
      "text/html": [
       "<span style=\"None\">Running query in &#x27;sqlite:///library.db&#x27;</span>"
      ],
      "text/plain": [
       "Running query in 'sqlite:///library.db'"
      ]
     },
     "metadata": {},
     "output_type": "display_data"
    },
    {
     "data": {
      "text/html": [
       "<span style=\"color: green\">10 rows affected.</span>"
      ],
      "text/plain": [
       "10 rows affected."
      ]
     },
     "metadata": {},
     "output_type": "display_data"
    },
    {
     "data": {
      "text/html": [
       "<table>\n",
       "    <thead>\n",
       "        <tr>\n",
       "        </tr>\n",
       "    </thead>\n",
       "    <tbody>\n",
       "    </tbody>\n",
       "</table>"
      ],
      "text/plain": [
       "++\n",
       "||\n",
       "++\n",
       "++"
      ]
     },
     "execution_count": 76,
     "metadata": {},
     "output_type": "execute_result"
    }
   ],
   "source": [
    "%%sql\n",
    "INSERT INTO LibraryItem (itemID, title, author, releaseYear, issueNumber, itemType, itemStatus)\n",
    "VALUES \n",
    "  (11, 'To Kill a Mockingbird', 'Harper Lee', 1960, NULL, 'Print Book', 'Available'),\n",
    "  (12, '1984', 'George Orwell', 1949, NULL, 'Print Book', 'Available'),\n",
    "  (13, 'The Hip Hop Years', 'Alex Ogg', 1999, NULL, 'Print Book', 'Available'),\n",
    "  (14, 'Illmatic', 'Nas', 1994, NULL, 'CD', 'Available'),\n",
    "  (15, 'The Chronic', 'Dr. Dre', 1992, NULL, 'CD', 'Available'),\n",
    "  (16, 'Enter the Wu-Tang (36 Chambers)', 'Wu-Tang Clan', 1993, NULL, 'CD', 'Available'),\n",
    "  (17, 'Ready to Die', 'The Notorious B.I.G.', 1994, NULL, 'CD', 'Available'),\n",
    "  (18, 'A Tribe Called Quest: The Anthology', 'A Tribe Called Quest', 1999, NULL, 'CD', 'Available'),\n",
    "  (19, 'Books and Rhymes: Hip Hop in Literature', 'Various Authors', 2010, NULL, 'Print Book', 'Available'),\n",
    "  (20, 'The Miseducation of Lauryn Hill', 'Lauryn Hill', 1998, NULL, 'CD', 'Available');"
   ]
  },
  {
   "cell_type": "code",
   "execution_count": 77,
   "id": "5210b0d7-77a6-4d17-958c-9521cec72e39",
   "metadata": {},
   "outputs": [
    {
     "data": {
      "text/html": [
       "<span style=\"None\">displaylimit: Value None will be treated as 0 (no limit)</span>"
      ],
      "text/plain": [
       "displaylimit: Value None will be treated as 0 (no limit)"
      ]
     },
     "metadata": {},
     "output_type": "display_data"
    }
   ],
   "source": [
    "%config SqlMagic.displaylimit = None"
   ]
  },
  {
   "cell_type": "code",
   "execution_count": 78,
   "id": "c66a4018-e483-47af-90ec-bfdd4bf0eed5",
   "metadata": {},
   "outputs": [
    {
     "data": {
      "text/html": [
       "<span style=\"None\">Running query in &#x27;sqlite:///library.db&#x27;</span>"
      ],
      "text/plain": [
       "Running query in 'sqlite:///library.db'"
      ]
     },
     "metadata": {},
     "output_type": "display_data"
    },
    {
     "data": {
      "text/html": [
       "<span style=\"color: green\">1 rows affected.</span>"
      ],
      "text/plain": [
       "1 rows affected."
      ]
     },
     "metadata": {},
     "output_type": "display_data"
    },
    {
     "data": {
      "text/html": [
       "<table>\n",
       "    <thead>\n",
       "        <tr>\n",
       "        </tr>\n",
       "    </thead>\n",
       "    <tbody>\n",
       "    </tbody>\n",
       "</table>"
      ],
      "text/plain": [
       "++\n",
       "||\n",
       "++\n",
       "++"
      ]
     },
     "execution_count": 78,
     "metadata": {},
     "output_type": "execute_result"
    }
   ],
   "source": [
    "%%sql\n",
    "INSERT INTO LibraryItem (itemID, title, author, releaseYear, issueNumber, itemType, itemStatus)\n",
    "VALUES \n",
    "  (74, 'To Kill a Mockingbird', 'Harper Lee', 1960, NULL, 'Print Book', 'Available')"
   ]
  },
  {
   "cell_type": "code",
   "execution_count": 79,
   "id": "9fd53a4e-821b-4927-9a6d-c7d59574b5a7",
   "metadata": {},
   "outputs": [
    {
     "data": {
      "text/html": [
       "<span style=\"None\">Running query in &#x27;sqlite:///library.db&#x27;</span>"
      ],
      "text/plain": [
       "Running query in 'sqlite:///library.db'"
      ]
     },
     "metadata": {},
     "output_type": "display_data"
    },
    {
     "data": {
      "text/html": [
       "<span style=\"color: green\">10 rows affected.</span>"
      ],
      "text/plain": [
       "10 rows affected."
      ]
     },
     "metadata": {},
     "output_type": "display_data"
    },
    {
     "data": {
      "text/html": [
       "<table>\n",
       "    <thead>\n",
       "        <tr>\n",
       "        </tr>\n",
       "    </thead>\n",
       "    <tbody>\n",
       "    </tbody>\n",
       "</table>"
      ],
      "text/plain": [
       "++\n",
       "||\n",
       "++\n",
       "++"
      ]
     },
     "execution_count": 79,
     "metadata": {},
     "output_type": "execute_result"
    }
   ],
   "source": [
    "%%sql\n",
    "INSERT INTO FutureItem (itemID, dateOfArrival, approvalStatus)\n",
    "VALUES\n",
    "(11, '2026-08-01', 'Pending'),\n",
    "(12, '2026-08-10', 'Pending'),\n",
    "(13, '2026-08-20', 'Complete'),\n",
    "(14, '2026-09-01', 'Denied'),\n",
    "(15, '2026-09-15', 'Pending'),\n",
    "(16, '2026-10-01', 'Complete'),\n",
    "(17, '2026-10-10', 'Pending'),\n",
    "(18, '2026-10-15', 'Pending'),\n",
    "(19, '2026-11-01', 'Pending'),\n",
    "(20, '2026-11-15', 'Denied');"
   ]
  },
  {
   "cell_type": "code",
   "execution_count": 80,
   "id": "64a8b5bc-5221-46c0-8758-147f92496279",
   "metadata": {},
   "outputs": [
    {
     "data": {
      "text/html": [
       "<span style=\"None\">Running query in &#x27;sqlite:///library.db&#x27;</span>"
      ],
      "text/plain": [
       "Running query in 'sqlite:///library.db'"
      ]
     },
     "metadata": {},
     "output_type": "display_data"
    },
    {
     "data": {
      "text/html": [
       "<span style=\"color: green\">10 rows affected.</span>"
      ],
      "text/plain": [
       "10 rows affected."
      ]
     },
     "metadata": {},
     "output_type": "display_data"
    },
    {
     "data": {
      "text/html": [
       "<table>\n",
       "    <thead>\n",
       "        <tr>\n",
       "        </tr>\n",
       "    </thead>\n",
       "    <tbody>\n",
       "    </tbody>\n",
       "</table>"
      ],
      "text/plain": [
       "++\n",
       "||\n",
       "++\n",
       "++"
      ]
     },
     "execution_count": 80,
     "metadata": {},
     "output_type": "execute_result"
    }
   ],
   "source": [
    "%%sql\n",
    "INSERT INTO Register (memberID, eventID)\n",
    "VALUES\n",
    "(1, 1),\n",
    "(2, 2),\n",
    "(3, 3),\n",
    "(4, 4),\n",
    "(5, 5),\n",
    "(6, 6),\n",
    "(7, 7),\n",
    "(8, 8),\n",
    "(9, 9),\n",
    "(10, 10);"
   ]
  },
  {
   "cell_type": "code",
   "execution_count": 81,
   "id": "60786490-12ac-4057-8255-a9b571edf546",
   "metadata": {},
   "outputs": [
    {
     "data": {
      "text/html": [
       "<span style=\"None\">Running query in &#x27;sqlite:///library.db&#x27;</span>"
      ],
      "text/plain": [
       "Running query in 'sqlite:///library.db'"
      ]
     },
     "metadata": {},
     "output_type": "display_data"
    },
    {
     "data": {
      "text/html": [
       "<span style=\"color: green\">10 rows affected.</span>"
      ],
      "text/plain": [
       "10 rows affected."
      ]
     },
     "metadata": {},
     "output_type": "display_data"
    },
    {
     "data": {
      "text/html": [
       "<table>\n",
       "    <thead>\n",
       "        <tr>\n",
       "        </tr>\n",
       "    </thead>\n",
       "    <tbody>\n",
       "    </tbody>\n",
       "</table>"
      ],
      "text/plain": [
       "++\n",
       "||\n",
       "++\n",
       "++"
      ]
     },
     "execution_count": 81,
     "metadata": {},
     "output_type": "execute_result"
    }
   ],
   "source": [
    "%%sql\n",
    "INSERT INTO Borrows (itemID, memberID, borrowDate, dueDate, fineAmount)\n",
    "VALUES\n",
    "(1, 1, '2025-03-01', '2025-03-15', 0.0),\n",
    "(2, 2, '2025-03-05', '2025-03-20', 0.0),\n",
    "(3, 3, '2025-03-10', '2025-03-25', 5.0),\n",
    "(4, 4, '2025-03-12', '2025-03-27', 0.0),\n",
    "(5, 5, '2025-03-13', '2025-03-28', 0.0),\n",
    "(6, 6, '2025-03-14', '2025-03-29', 0.0),\n",
    "(7, 7, '2025-03-15', '2025-03-30', 2.5),\n",
    "(8, 8, '2025-03-16', '2025-03-31', 0.0),\n",
    "(9, 9, '2025-03-17', '2025-04-01', 0.0),\n",
    "(10, 10, '2025-03-18', '2025-04-02', 0.0);"
   ]
  },
  {
   "cell_type": "code",
   "execution_count": 82,
   "id": "cacbfe97-d877-4da4-a1db-c023472b1a22",
   "metadata": {},
   "outputs": [
    {
     "data": {
      "text/html": [
       "<span style=\"None\">Running query in &#x27;sqlite:///library.db&#x27;</span>"
      ],
      "text/plain": [
       "Running query in 'sqlite:///library.db'"
      ]
     },
     "metadata": {},
     "output_type": "display_data"
    },
    {
     "data": {
      "text/html": [
       "<span style=\"color: green\">8 rows affected.</span>"
      ],
      "text/plain": [
       "8 rows affected."
      ]
     },
     "metadata": {},
     "output_type": "display_data"
    },
    {
     "data": {
      "text/html": [
       "<table>\n",
       "    <thead>\n",
       "        <tr>\n",
       "        </tr>\n",
       "    </thead>\n",
       "    <tbody>\n",
       "    </tbody>\n",
       "</table>"
      ],
      "text/plain": [
       "++\n",
       "||\n",
       "++\n",
       "++"
      ]
     },
     "execution_count": 82,
     "metadata": {},
     "output_type": "execute_result"
    }
   ],
   "source": [
    "%%sql\n",
    "INSERT INTO VolunteeringPositions (positionName, positionDescription, location, isAvailable)\n",
    "VALUES\n",
    "('Reading Buddy', 'Help children improve reading skills', 'Children’s Room', 1),\n",
    "('Book Organizer', 'Reshelf and organize returned books', 'Main Branch', 1),\n",
    "('Event Assistant', 'Assist with setup and guest support during events', 'Auditorium', 1),\n",
    "('Tech Guide', 'Help patrons use public computers and printers', 'Computer Lab', 1),\n",
    "('Storytime Host', 'Read books aloud to children during story hour', 'Children’s Room', 1),\n",
    "('Language Partner', 'Converse with newcomers to improve English skills', 'Language Centre', 1),\n",
    "('Film Screening Usher', 'Assist in seating and guiding attendees', 'Event Hall', 0),\n",
    "('Art Exhibit Helper', 'Support local artists during setup and takedown', 'Exhibit Space', 1);\n"
   ]
  },
  {
   "cell_type": "code",
   "execution_count": 83,
   "id": "5b534f1e-7be5-442d-9d1a-223171aa570e",
   "metadata": {},
   "outputs": [
    {
     "data": {
      "text/html": [
       "<span style=\"None\">Running query in &#x27;sqlite:///library.db&#x27;</span>"
      ],
      "text/plain": [
       "Running query in 'sqlite:///library.db'"
      ]
     },
     "metadata": {},
     "output_type": "display_data"
    },
    {
     "data": {
      "text/html": [
       "<span style=\"color: green\">1 rows affected.</span>"
      ],
      "text/plain": [
       "1 rows affected."
      ]
     },
     "metadata": {},
     "output_type": "display_data"
    },
    {
     "data": {
      "text/html": [
       "<table>\n",
       "    <thead>\n",
       "        <tr>\n",
       "        </tr>\n",
       "    </thead>\n",
       "    <tbody>\n",
       "    </tbody>\n",
       "</table>"
      ],
      "text/plain": [
       "++\n",
       "||\n",
       "++\n",
       "++"
      ]
     },
     "execution_count": 83,
     "metadata": {},
     "output_type": "execute_result"
    }
   ],
   "source": [
    "%%sql\n",
    "INSERT INTO Volunteer (memberID, positionID)\n",
    "VALUES\n",
    "(1, 1)"
   ]
  },
  {
   "cell_type": "code",
   "execution_count": 84,
   "id": "083af8a5-1b24-421a-a998-474885237183",
   "metadata": {},
   "outputs": [
    {
     "data": {
      "text/html": [
       "<span style=\"None\">Running query in &#x27;sqlite:///library.db&#x27;</span>"
      ],
      "text/plain": [
       "Running query in 'sqlite:///library.db'"
      ]
     },
     "metadata": {},
     "output_type": "display_data"
    },
    {
     "data": {
      "text/html": [
       "<span style=\"color: green\">1 rows affected.</span>"
      ],
      "text/plain": [
       "1 rows affected."
      ]
     },
     "metadata": {},
     "output_type": "display_data"
    },
    {
     "data": {
      "text/html": [
       "<table>\n",
       "    <thead>\n",
       "        <tr>\n",
       "        </tr>\n",
       "    </thead>\n",
       "    <tbody>\n",
       "    </tbody>\n",
       "</table>"
      ],
      "text/plain": [
       "++\n",
       "||\n",
       "++\n",
       "++"
      ]
     },
     "execution_count": 84,
     "metadata": {},
     "output_type": "execute_result"
    }
   ],
   "source": [
    "%%sql\n",
    "INSERT INTO Borrows (itemID, memberID, borrowDate, dueDate)\n",
    "VALUES (101, 1, '2025-03-01', '2025-03-10');"
   ]
  },
  {
   "cell_type": "code",
   "execution_count": 85,
   "id": "a9fc8e2a-4f28-4584-9d15-ae43667ae3cf",
   "metadata": {},
   "outputs": [
    {
     "data": {
      "text/html": [
       "<span style=\"None\">Running query in &#x27;sqlite:///library.db&#x27;</span>"
      ],
      "text/plain": [
       "Running query in 'sqlite:///library.db'"
      ]
     },
     "metadata": {},
     "output_type": "display_data"
    },
    {
     "data": {
      "text/html": [
       "<table>\n",
       "    <thead>\n",
       "        <tr>\n",
       "            <th>fineAmount</th>\n",
       "        </tr>\n",
       "    </thead>\n",
       "    <tbody>\n",
       "        <tr>\n",
       "            <td>0</td>\n",
       "        </tr>\n",
       "    </tbody>\n",
       "</table>"
      ],
      "text/plain": [
       "+------------+\n",
       "| fineAmount |\n",
       "+------------+\n",
       "|     0      |\n",
       "+------------+"
      ]
     },
     "execution_count": 85,
     "metadata": {},
     "output_type": "execute_result"
    }
   ],
   "source": [
    "%%sql\n",
    "SELECT fineAmount FROM Borrows WHERE itemID = 101 AND memberID = 1;\n",
    "-- Expected: 0.0\n"
   ]
  },
  {
   "cell_type": "code",
   "execution_count": 86,
   "id": "a6d171cc-9a11-4308-a3f0-077a745c6627",
   "metadata": {},
   "outputs": [
    {
     "data": {
      "text/html": [
       "<span style=\"None\">Running query in &#x27;sqlite:///library.db&#x27;</span>"
      ],
      "text/plain": [
       "Running query in 'sqlite:///library.db'"
      ]
     },
     "metadata": {},
     "output_type": "display_data"
    },
    {
     "data": {
      "text/html": [
       "<span style=\"color: green\">1 rows affected.</span>"
      ],
      "text/plain": [
       "1 rows affected."
      ]
     },
     "metadata": {},
     "output_type": "display_data"
    },
    {
     "data": {
      "text/html": [
       "<table>\n",
       "    <thead>\n",
       "        <tr>\n",
       "        </tr>\n",
       "    </thead>\n",
       "    <tbody>\n",
       "    </tbody>\n",
       "</table>"
      ],
      "text/plain": [
       "++\n",
       "||\n",
       "++\n",
       "++"
      ]
     },
     "execution_count": 86,
     "metadata": {},
     "output_type": "execute_result"
    }
   ],
   "source": [
    "%%sql\n",
    "UPDATE Borrows\n",
    "SET returnDate = '2025-03-10' -- '2025-03-15'\n",
    "WHERE itemID = 101 AND memberID = 1;"
   ]
  },
  {
   "cell_type": "code",
   "execution_count": 87,
   "id": "be4fdc8f-faf0-41b2-a78c-b28e8e120217",
   "metadata": {},
   "outputs": [
    {
     "data": {
      "text/html": [
       "<span style=\"None\">Running query in &#x27;sqlite:///library.db&#x27;</span>"
      ],
      "text/plain": [
       "Running query in 'sqlite:///library.db'"
      ]
     },
     "metadata": {},
     "output_type": "display_data"
    },
    {
     "data": {
      "text/html": [
       "<table>\n",
       "    <thead>\n",
       "        <tr>\n",
       "            <th>fineAmount</th>\n",
       "            <th>borrowDate</th>\n",
       "            <th>dueDate</th>\n",
       "            <th>returnDate</th>\n",
       "        </tr>\n",
       "    </thead>\n",
       "    <tbody>\n",
       "        <tr>\n",
       "            <td>0</td>\n",
       "            <td>2025-03-01</td>\n",
       "            <td>2025-03-10</td>\n",
       "            <td>2025-03-10</td>\n",
       "        </tr>\n",
       "    </tbody>\n",
       "</table>"
      ],
      "text/plain": [
       "+------------+------------+------------+------------+\n",
       "| fineAmount | borrowDate |  dueDate   | returnDate |\n",
       "+------------+------------+------------+------------+\n",
       "|     0      | 2025-03-01 | 2025-03-10 | 2025-03-10 |\n",
       "+------------+------------+------------+------------+"
      ]
     },
     "execution_count": 87,
     "metadata": {},
     "output_type": "execute_result"
    }
   ],
   "source": [
    "%%sql\n",
    "SELECT fineAmount, borrowDate, dueDate, returnDate\n",
    "FROM Borrows\n",
    "WHERE itemID = 101 AND memberID = 1;"
   ]
  },
  {
   "cell_type": "code",
   "execution_count": null,
   "id": "6a2c8673-842e-4896-bd98-232480b2f542",
   "metadata": {},
   "outputs": [],
   "source": []
  }
 ],
 "metadata": {
  "kernelspec": {
   "display_name": "Python 3 (ipykernel)",
   "language": "python",
   "name": "python3"
  },
  "language_info": {
   "codemirror_mode": {
    "name": "ipython",
    "version": 3
   },
   "file_extension": ".py",
   "mimetype": "text/x-python",
   "name": "python",
   "nbconvert_exporter": "python",
   "pygments_lexer": "ipython3",
   "version": "3.12.6"
  }
 },
 "nbformat": 4,
 "nbformat_minor": 5
}
